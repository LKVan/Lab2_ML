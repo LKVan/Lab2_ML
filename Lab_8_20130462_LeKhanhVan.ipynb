{
  "nbformat": 4,
  "nbformat_minor": 0,
  "metadata": {
    "colab": {
      "provenance": [],
      "include_colab_link": true
    },
    "kernelspec": {
      "name": "python3",
      "display_name": "Python 3"
    },
    "language_info": {
      "name": "python"
    }
  },
  "cells": [
    {
      "cell_type": "markdown",
      "metadata": {
        "id": "view-in-github",
        "colab_type": "text"
      },
      "source": [
        "<a href=\"https://colab.research.google.com/github/LKVan/Lab2_ML/blob/van/Lab_8_20130462_LeKhanhVan.ipynb\" target=\"_parent\"><img src=\"https://colab.research.google.com/assets/colab-badge.svg\" alt=\"Open In Colab\"/></a>"
      ]
    },
    {
      "cell_type": "markdown",
      "source": [
        "# This lab deals with **GridSearchCV** for tuning the hyper-parameters of an estimator and applying vectorization techniques to the **movie reviews dataset** for classification task. \n",
        "\n",
        "*   **Deadline: 23:59, 17/4/2023**\n",
        "\n"
      ],
      "metadata": {
        "id": "LMzehe0sy5wr"
      }
    },
    {
      "cell_type": "markdown",
      "source": [
        "# Import libraries"
      ],
      "metadata": {
        "id": "H4nJmxp9zGX4"
      }
    },
    {
      "cell_type": "code",
      "execution_count": 28,
      "metadata": {
        "id": "DoVWQ8AEyc-C"
      },
      "outputs": [],
      "source": [
        "# code\n",
        "import numpy as np\n",
        "import pandas as pd\n",
        "import matplotlib.pyplot as plt\n",
        "from sklearn.metrics import confusion_matrix\n",
        "from sklearn.metrics import precision_score\n",
        "from sklearn.metrics import recall_score\n",
        "from sklearn.metrics import accuracy_score\n",
        "from sklearn.metrics import f1_score\n",
        "from sklearn import datasets\n",
        "from sklearn.model_selection import train_test_split\n",
        "from sklearn import metrics\n",
        "from sklearn import svm\n",
        "from sklearn.metrics import ConfusionMatrixDisplay\n",
        "from sklearn.linear_model import LogisticRegression\n",
        "from sklearn.neighbors import KNeighborsClassifier\n",
        "from sklearn.tree import DecisionTreeClassifier\n",
        "from prettytable import PrettyTable\n",
        "from sklearn.metrics import classification_report\n",
        "from sklearn.ensemble import RandomForestClassifier\n",
        "from sklearn.feature_selection import SelectKBest\n",
        "from sklearn.feature_selection import f_classif\n",
        "from sklearn.feature_selection import RFE\n",
        "from sklearn.naive_bayes import GaussianNB\n",
        "from sklearn.model_selection import GridSearchCV"
      ]
    },
    {
      "cell_type": "markdown",
      "source": [
        "#Task 1. With **iris** dataset\n",
        "*  1.1. Apply **GridSearchCV** for **SVM** to find the best hyperparameters using the following param_grid.\n",
        "\n",
        "```\n",
        "param_grid = {'C': [0.1, 1, 10, 100, 1000],\n",
        "              'gamma': [1, 0.1, 0.01, 0.001, 0.0001],\n",
        "              'kernel': ['rbf','linear']}\n",
        "```\n",
        "\n",
        "\n"
      ],
      "metadata": {
        "id": "x_dG9SA5OhGT"
      }
    },
    {
      "cell_type": "code",
      "source": [
        "#code\n",
        "iris = datasets.load_iris()\n",
        "X = iris.data\n",
        "y = iris.target\n",
        "X_train, X_test, y_train, y_test = train_test_split(X,y, test_size=0.3, train_size=0.7,\n",
        "random_state=None, shuffle=True, stratify=None)"
      ],
      "metadata": {
        "id": "62jExOZ952fF"
      },
      "execution_count": 2,
      "outputs": []
    },
    {
      "cell_type": "code",
      "source": [
        "#SVM\n",
        "svm_class = svm.SVC()\n",
        "param_grid = {'C': [0.1, 1, 10, 100, 1000],\n",
        "              'gamma': [1, 0.1, 0.01, 0.001, 0.0001],\n",
        "              'kernel': ['rbf','linear']}\n",
        "grid_svm_class = GridSearchCV(estimator=svm_class, param_grid=param_grid, scoring='accuracy', n_jobs=4, cv=10, refit=True, return_train_score=True)\n",
        "\n",
        "grid_svm_class.fit(X_train,y_train)\n",
        "y_pred = grid_svm_class.predict(X_test)\n",
        "\n",
        "print(grid_svm_class.best_params_)\n",
        "accuracy_svm = round(accuracy_score(y_test, y_pred),4)\n",
        "precison_svm = round(precision_score(y_test, y_pred, average='macro'),4)\n",
        "recall_svm= round(recall_score(y_test, y_pred, average='macro'),4)\n",
        "f1_svm = round(f1_score(y_test, y_pred, average='macro'),4)"
      ],
      "metadata": {
        "colab": {
          "base_uri": "https://localhost:8080/"
        },
        "id": "kPhivJgFdhpF",
        "outputId": "e7658269-6cd2-4a01-e184-464c4983f13d"
      },
      "execution_count": 3,
      "outputs": [
        {
          "output_type": "stream",
          "name": "stdout",
          "text": [
            "{'C': 10, 'gamma': 1, 'kernel': 'linear'}\n"
          ]
        }
      ]
    },
    {
      "cell_type": "markdown",
      "source": [
        "*  1.2. Apply **GridSearchCV** for **kNN** to find the best hyperparameters using the following param_grid.\n",
        "\n",
        "```\n",
        "grid_params = { 'n_neighbors' : [5,7,9,11,13,15],\n",
        "               'weights' : ['uniform','distance'],\n",
        "               'metric' : ['minkowski','euclidean','manhattan']}\n",
        "```\n",
        "where\n",
        "\n",
        "    *  **n_neighbors**: Decide the best k based on the values we have computed earlier.\n",
        "    *  **weights**: Check whether adding weights to the data points is beneficial to the model or not. 'uniform' assigns no weight, while 'distance' weighs points by the inverse of their distances meaning nearer points will have more weight than the farther points.\n",
        "    *  **metric**: The distance metric to be used will calculating the similarity.\n"
      ],
      "metadata": {
        "id": "2g--8cng53sY"
      }
    },
    {
      "cell_type": "code",
      "source": [
        "#kNN\n",
        "grid_params = { 'n_neighbors' : [5,7,9,11,13,15],\n",
        "               'weights' : ['uniform','distance'],\n",
        "               'metric' : ['minkowski','euclidean','manhattan']}\n",
        "               \n",
        "kNN = KNeighborsClassifier()\n",
        "grid_kNN_class = GridSearchCV(estimator=kNN, param_grid=grid_params, scoring='accuracy', n_jobs=4, cv=10, refit=True, return_train_score=True)\n",
        "\n",
        "grid_kNN_class.fit(X_train,y_train)\n",
        "y_pred = grid_kNN_class.predict(X_test)\n",
        "\n",
        "print(grid_kNN_class.best_params_)\n",
        "accuracy_kNN = round(accuracy_score(y_test, y_pred),4)\n",
        "precison_kNN = round(precision_score(y_test, y_pred, average='macro'),4)\n",
        "recall_kNN= round(recall_score(y_test, y_pred, average='macro'),4)\n",
        "f1_kNN = round(f1_score(y_test, y_pred, average='macro'),4)"
      ],
      "metadata": {
        "id": "fX0_kItYPism",
        "colab": {
          "base_uri": "https://localhost:8080/"
        },
        "outputId": "98261988-8f80-49f5-fb3e-937a6b15133b"
      },
      "execution_count": 4,
      "outputs": [
        {
          "output_type": "stream",
          "name": "stdout",
          "text": [
            "{'metric': 'minkowski', 'n_neighbors': 11, 'weights': 'distance'}\n"
          ]
        }
      ]
    },
    {
      "cell_type": "markdown",
      "source": [
        "*  1.3. Apply **GridSearchCV** for **Random Forest** to find the best hyperparameters using the following param_grid.\n",
        "\n",
        "```\n",
        "param_grid = {\n",
        "    'n_estimators': [25, 50, 100, 150],\n",
        "    'max_features': ['sqrt', 'log2', None],\n",
        "    'max_depth': [3, 6, 9],\n",
        "    'max_leaf_nodes': [3, 6, 9],\n",
        "}\n",
        "```"
      ],
      "metadata": {
        "id": "3lQSOcjL_TIW"
      }
    },
    {
      "cell_type": "code",
      "source": [
        "#RandomForest\n",
        "param_grid = {\n",
        "    'n_estimators': [25, 50, 100, 150],\n",
        "    'max_features': ['sqrt', 'log2', None],\n",
        "    'max_depth': [3, 6, 9],\n",
        "    'max_leaf_nodes': [3, 6, 9],\n",
        "}\n",
        "rf_class = RandomForestClassifier(criterion='entropy', max_features='auto')\n",
        "grid_rf_class = GridSearchCV(estimator=rf_class, param_grid=param_grid, scoring='accuracy', n_jobs=4, cv=10, refit=True, return_train_score=True)\n",
        "\n",
        "grid_rf_class.fit(X_train,y_train)\n",
        "y_pred = grid_rf_class.predict(X_test)\n",
        "\n",
        "print(grid_rf_class.best_params_)\n",
        "accuracy_rf = round(accuracy_score(y_test, y_pred),4)\n",
        "precison_rf = round(precision_score(y_test, y_pred, average='macro'),4)\n",
        "recall_rf= round(recall_score(y_test, y_pred, average='macro'),4)\n",
        "f1_rf = round(f1_score(y_test, y_pred, average='macro'),4)"
      ],
      "metadata": {
        "id": "OlyF9WpN_01p",
        "colab": {
          "base_uri": "https://localhost:8080/"
        },
        "outputId": "b484e007-5b3f-4a94-b837-50f2dde04bfa"
      },
      "execution_count": 5,
      "outputs": [
        {
          "output_type": "stream",
          "name": "stdout",
          "text": [
            "{'max_depth': 9, 'max_features': 'sqrt', 'max_leaf_nodes': 3, 'n_estimators': 100}\n"
          ]
        }
      ]
    },
    {
      "cell_type": "markdown",
      "source": [
        "*   1.4 Compare the best obtained results from 1.1 to 1.3 (use PrettyTable to dispaly the results)"
      ],
      "metadata": {
        "id": "G3N7TD7s_3Kp"
      }
    },
    {
      "cell_type": "code",
      "source": [
        "#table compare\n",
        "table = PrettyTable([\"\",\"Accuracy\", \"Precision\", \"Recall\", \"F1\"])\n",
        "table.add_row([\"SVM  \",accuracy_svm, precison_svm, recall_svm, f1_svm])\n",
        "table.add_row([\"KNN  \",accuracy_kNN, precison_kNN, recall_kNN, f1_kNN])\n",
        "table.add_row([\"Random Forest  \",accuracy_rf, precison_rf, recall_rf, f1_rf])\n",
        "print(table)"
      ],
      "metadata": {
        "colab": {
          "base_uri": "https://localhost:8080/"
        },
        "id": "AePqJII-dyMI",
        "outputId": "947dfa6d-c21b-4031-85b4-adcfa6386558"
      },
      "execution_count": 7,
      "outputs": [
        {
          "output_type": "stream",
          "name": "stdout",
          "text": [
            "+-----------------+----------+-----------+--------+--------+\n",
            "|                 | Accuracy | Precision | Recall |   F1   |\n",
            "+-----------------+----------+-----------+--------+--------+\n",
            "|      SVM        |  0.9333  |    0.95   | 0.9231 | 0.9295 |\n",
            "|      KNN        |  0.9556  |   0.9548  | 0.9548 | 0.9548 |\n",
            "| Random Forest   |  0.9556  |   0.9548  | 0.9548 | 0.9548 |\n",
            "+-----------------+----------+-----------+--------+--------+\n"
          ]
        }
      ]
    },
    {
      "cell_type": "markdown",
      "source": [
        "#Task 2. \n",
        "For breast cancer dataset (https://tinyurl.com/3vme8hr3) which could be loaded from datasets in sklearn as follows:\n",
        "\n",
        "```\n",
        "#Import scikit-learn dataset library\n",
        "from sklearn import datasets\n",
        "\n",
        "#Load dataset\n",
        "cancer = datasets.load_breast_cancer()\n",
        "```\n",
        "\n",
        "*   Apply **GridSearchCV** to different classification algorithms such as **SVM, kNN, LogisticRegression, RandomForest**.\n",
        "*   Compare the results obtained by the best hyperparameters among classification algorithms."
      ],
      "metadata": {
        "id": "kNv07ARGzOUm"
      }
    },
    {
      "cell_type": "code",
      "source": [
        "# Load dataset\n",
        "cancer = datasets.load_breast_cancer()\n",
        "X = cancer.data\n",
        "y = cancer.target\n",
        "X_train, X_test, y_train, y_test = train_test_split(X,y, test_size=0.3, train_size=0.7,\n",
        "random_state=None, shuffle=True, stratify=None)"
      ],
      "metadata": {
        "id": "TK-iecuNd4IZ"
      },
      "execution_count": 6,
      "outputs": []
    },
    {
      "cell_type": "markdown",
      "source": [
        "*   2.1. Apply **GridSearchCV** to **SVM** \n"
      ],
      "metadata": {
        "id": "pnoVB8J4vV36"
      }
    },
    {
      "cell_type": "code",
      "source": [
        "#SVM\n",
        "svm_class = svm.SVC()\n",
        "param_grid = {'C': [0.1, 1, 10, 100],\n",
        "              'gamma': [1, 0.1, 0.01, 0.001],\n",
        "              'kernel': ['rbf','linear']}\n",
        "grid_svm_class = GridSearchCV(estimator=svm_class, param_grid=param_grid, scoring='accuracy', n_jobs=4, cv=10, refit=True, return_train_score=True)\n",
        "\n",
        "grid_svm_class.fit(X_train,y_train)\n",
        "y_pred = grid_svm_class.predict(X_test)\n",
        "\n",
        "print(grid_svm_class.best_params_)"
      ],
      "metadata": {
        "id": "-ZTSvsJdvYqI",
        "colab": {
          "base_uri": "https://localhost:8080/"
        },
        "outputId": "8ba897f9-e341-4e5d-cb66-8a2b61f990f7"
      },
      "execution_count": 8,
      "outputs": [
        {
          "output_type": "stream",
          "name": "stdout",
          "text": [
            "{'C': 10, 'gamma': 1, 'kernel': 'linear'}\n"
          ]
        }
      ]
    },
    {
      "cell_type": "code",
      "source": [
        "# SVM with best hyperparameter\n",
        "svm = svm.SVC(C=10,gamma=1,kernel='linear')\n",
        "svm.fit(X_train,y_train)\n",
        "y_pred = svm.predict(X_test)\n",
        "\n",
        "accuracy_svm = round(accuracy_score(y_test, y_pred),4)\n",
        "precison_svm = round(precision_score(y_test, y_pred, average='macro'),4)\n",
        "recall_svm= round(recall_score(y_test, y_pred, average='macro'),4)\n",
        "f1_svm = round(f1_score(y_test, y_pred, average='macro'),4)"
      ],
      "metadata": {
        "id": "pZbxJtNWzkR2"
      },
      "execution_count": 12,
      "outputs": []
    },
    {
      "cell_type": "markdown",
      "source": [
        "*   2.2. Apply **GridSearchCV** to **kNN** "
      ],
      "metadata": {
        "id": "ol1U_T_NvcqV"
      }
    },
    {
      "cell_type": "code",
      "source": [
        "#code\n",
        "grid_params = { 'n_neighbors' : [5,7,9,11,13],\n",
        "               'weights' : ['uniform','distance'],\n",
        "               'metric' : ['minkowski','euclidean','manhattan']}\n",
        "               \n",
        "kNN = KNeighborsClassifier()\n",
        "grid_kNN_class = GridSearchCV(estimator=kNN, param_grid=grid_params, scoring='accuracy', n_jobs=4, cv=10, refit=True, return_train_score=True)\n",
        "\n",
        "grid_kNN_class.fit(X_train,y_train)\n",
        "y_pred = grid_kNN_class.predict(X_test)\n",
        "\n",
        "print(grid_kNN_class.best_params_)"
      ],
      "metadata": {
        "id": "kt71yrAoBwYE",
        "colab": {
          "base_uri": "https://localhost:8080/"
        },
        "outputId": "7e509186-4f73-43ad-a740-90d7ce2e8499"
      },
      "execution_count": 9,
      "outputs": [
        {
          "output_type": "stream",
          "name": "stdout",
          "text": [
            "{'metric': 'manhattan', 'n_neighbors': 7, 'weights': 'uniform'}\n"
          ]
        }
      ]
    },
    {
      "cell_type": "code",
      "source": [
        "#kNN with best hyperparameter\n",
        "kNN = KNeighborsClassifier(metric='manhattan', n_neighbors=7, weights='uniform')\n",
        "kNN.fit(X_train,y_train)\n",
        "y_pred = kNN.predict(X_test)\n",
        "\n",
        "accuracy_kNN = round(accuracy_score(y_test, y_pred),4)\n",
        "precison_kNN = round(precision_score(y_test, y_pred, average='macro'),4)\n",
        "recall_kNN= round(recall_score(y_test, y_pred, average='macro'),4)\n",
        "f1_kNN = round(f1_score(y_test, y_pred, average='macro'),4)"
      ],
      "metadata": {
        "id": "Y7gnlIN90S25"
      },
      "execution_count": 13,
      "outputs": []
    },
    {
      "cell_type": "markdown",
      "source": [
        "*   2.3. Apply **GridSearchCV** to **LogisticRegression** "
      ],
      "metadata": {
        "id": "pPkAvse-BxNa"
      }
    },
    {
      "cell_type": "code",
      "source": [
        "#code\n",
        "grid_params = {'penalty': ['l1','l2'], 'C': [0.001,0.01,0.1,1,10]}\n",
        "clf = LogisticRegression(random_state=0)\n",
        "\n",
        "grid_logis_class = GridSearchCV(estimator=clf, param_grid=grid_params, scoring='accuracy', n_jobs=4, cv=10, refit=True, return_train_score=True)\n",
        "\n",
        "grid_logis_class.fit(X_train,y_train)\n",
        "y_pred = grid_logis_class.predict(X_test)\n",
        "\n",
        "print(grid_logis_class.best_params_)"
      ],
      "metadata": {
        "id": "nyYjpHFbB1Ci",
        "colab": {
          "base_uri": "https://localhost:8080/"
        },
        "outputId": "10f254a7-9e96-4266-abe1-262b2cbee904"
      },
      "execution_count": 10,
      "outputs": [
        {
          "output_type": "stream",
          "name": "stdout",
          "text": [
            "{'C': 10, 'penalty': 'l2'}\n"
          ]
        },
        {
          "output_type": "stream",
          "name": "stderr",
          "text": [
            "/usr/local/lib/python3.9/dist-packages/sklearn/model_selection/_validation.py:378: FitFailedWarning: \n",
            "50 fits failed out of a total of 100.\n",
            "The score on these train-test partitions for these parameters will be set to nan.\n",
            "If these failures are not expected, you can try to debug them by setting error_score='raise'.\n",
            "\n",
            "Below are more details about the failures:\n",
            "--------------------------------------------------------------------------------\n",
            "50 fits failed with the following error:\n",
            "Traceback (most recent call last):\n",
            "  File \"/usr/local/lib/python3.9/dist-packages/sklearn/model_selection/_validation.py\", line 686, in _fit_and_score\n",
            "    estimator.fit(X_train, y_train, **fit_params)\n",
            "  File \"/usr/local/lib/python3.9/dist-packages/sklearn/linear_model/_logistic.py\", line 1162, in fit\n",
            "    solver = _check_solver(self.solver, self.penalty, self.dual)\n",
            "  File \"/usr/local/lib/python3.9/dist-packages/sklearn/linear_model/_logistic.py\", line 54, in _check_solver\n",
            "    raise ValueError(\n",
            "ValueError: Solver lbfgs supports only 'l2' or 'none' penalties, got l1 penalty.\n",
            "\n",
            "  warnings.warn(some_fits_failed_message, FitFailedWarning)\n",
            "/usr/local/lib/python3.9/dist-packages/sklearn/model_selection/_search.py:952: UserWarning: One or more of the test scores are non-finite: [       nan 0.94474359        nan 0.93461538        nan 0.93455128\n",
            "        nan 0.93467949        nan 0.94730769]\n",
            "  warnings.warn(\n",
            "/usr/local/lib/python3.9/dist-packages/sklearn/model_selection/_search.py:952: UserWarning: One or more of the train scores are non-finite: [       nan 0.94193523        nan 0.94192979        nan 0.94137346\n",
            "        nan 0.94863448        nan 0.95142466]\n",
            "  warnings.warn(\n",
            "/usr/local/lib/python3.9/dist-packages/sklearn/linear_model/_logistic.py:458: ConvergenceWarning: lbfgs failed to converge (status=1):\n",
            "STOP: TOTAL NO. of ITERATIONS REACHED LIMIT.\n",
            "\n",
            "Increase the number of iterations (max_iter) or scale the data as shown in:\n",
            "    https://scikit-learn.org/stable/modules/preprocessing.html\n",
            "Please also refer to the documentation for alternative solver options:\n",
            "    https://scikit-learn.org/stable/modules/linear_model.html#logistic-regression\n",
            "  n_iter_i = _check_optimize_result(\n"
          ]
        }
      ]
    },
    {
      "cell_type": "code",
      "source": [
        "#logistic with besthyperparameter\n",
        "clf = LogisticRegression(C=10,penalty='l2')\n",
        "clf.fit(X_train,y_train)\n",
        "y_pred = clf.predict(X_test)\n",
        "\n",
        "accuracy_logis = round(accuracy_score(y_test, y_pred),4)\n",
        "precison_logis = round(precision_score(y_test, y_pred, average='macro'),4)\n",
        "recall_logis= round(recall_score(y_test, y_pred, average='macro'),4)\n",
        "f1_logis = round(f1_score(y_test, y_pred, average='macro'),4)"
      ],
      "metadata": {
        "colab": {
          "base_uri": "https://localhost:8080/"
        },
        "id": "FM9s1JCA05Zm",
        "outputId": "73e82518-598d-48bc-c53d-bccfbd4c06e8"
      },
      "execution_count": 14,
      "outputs": [
        {
          "output_type": "stream",
          "name": "stderr",
          "text": [
            "/usr/local/lib/python3.9/dist-packages/sklearn/linear_model/_logistic.py:458: ConvergenceWarning: lbfgs failed to converge (status=1):\n",
            "STOP: TOTAL NO. of ITERATIONS REACHED LIMIT.\n",
            "\n",
            "Increase the number of iterations (max_iter) or scale the data as shown in:\n",
            "    https://scikit-learn.org/stable/modules/preprocessing.html\n",
            "Please also refer to the documentation for alternative solver options:\n",
            "    https://scikit-learn.org/stable/modules/linear_model.html#logistic-regression\n",
            "  n_iter_i = _check_optimize_result(\n"
          ]
        }
      ]
    },
    {
      "cell_type": "markdown",
      "source": [
        "*   2.4. Apply **GridSearchCV** to **RandomForest** "
      ],
      "metadata": {
        "id": "3NjSLo5jB1xY"
      }
    },
    {
      "cell_type": "code",
      "source": [
        "#code\n",
        "param_grid = {\n",
        "    'n_estimators': [25, 50, 100],\n",
        "    'max_features': ['sqrt', 'log2', None],\n",
        "    'max_depth': [3, 6, 9],\n",
        "    'max_leaf_nodes': [3, 6, 9],\n",
        "}\n",
        "rf_class = RandomForestClassifier(criterion='entropy', max_features='auto')\n",
        "grid_rf_class = GridSearchCV(estimator=rf_class, param_grid=param_grid, scoring='accuracy', n_jobs=4, cv=10, refit=True, return_train_score=True)\n",
        "\n",
        "grid_rf_class.fit(X_train,y_train)\n",
        "y_pred = grid_rf_class.predict(X_test)\n",
        "\n",
        "print(grid_rf_class.best_params_)"
      ],
      "metadata": {
        "id": "nktGtM0PB7XB",
        "colab": {
          "base_uri": "https://localhost:8080/"
        },
        "outputId": "fcf973fa-f5d8-49d4-89a2-52514a2f84fc"
      },
      "execution_count": 11,
      "outputs": [
        {
          "output_type": "stream",
          "name": "stdout",
          "text": [
            "{'max_depth': 6, 'max_features': 'sqrt', 'max_leaf_nodes': 9, 'n_estimators': 50}\n"
          ]
        }
      ]
    },
    {
      "cell_type": "code",
      "source": [
        "# randomforest with best hyperparameter\n",
        "rf = RandomForestClassifier(max_depth=6,max_features='sqrt',max_leaf_nodes=9,n_estimators=50)\n",
        "rf.fit(X_train,y_train)\n",
        "y_pred = rf.predict(X_test)\n",
        "\n",
        "accuracy_rf = round(accuracy_score(y_test, y_pred),4)\n",
        "precison_rf = round(precision_score(y_test, y_pred, average='macro'),4)\n",
        "recall_rf= round(recall_score(y_test, y_pred, average='macro'),4)\n",
        "f1_rf = round(f1_score(y_test, y_pred, average='macro'),4)"
      ],
      "metadata": {
        "id": "UB1twejR1hZS"
      },
      "execution_count": 15,
      "outputs": []
    },
    {
      "cell_type": "markdown",
      "source": [
        "*   2.5. Compare the best obtained results among classification algorithms (use PrettyTable to dispaly the results) "
      ],
      "metadata": {
        "id": "NZJ3BSHpB9Dx"
      }
    },
    {
      "cell_type": "code",
      "source": [
        "#table compare\n",
        "table = PrettyTable([\"\",\"Accuracy\", \"Precision\", \"Recall\", \"F1\"])\n",
        "table.add_row([\"SVM  \",accuracy_svm, precison_svm, recall_svm, f1_svm])\n",
        "table.add_row([\"KNN  \",accuracy_kNN, precison_kNN, recall_kNN, f1_kNN])\n",
        "table.add_row([\"LogisticRegression  \",accuracy_logis, precison_logis, recall_logis, f1_logis])\n",
        "table.add_row([\"Random Forest  \",accuracy_rf, precison_rf, recall_rf, f1_rf])\n",
        "print(table)"
      ],
      "metadata": {
        "id": "8LS_IYfNCFEj",
        "colab": {
          "base_uri": "https://localhost:8080/"
        },
        "outputId": "ad606516-d275-4ab1-dce4-5f0f70ad655d"
      },
      "execution_count": 16,
      "outputs": [
        {
          "output_type": "stream",
          "name": "stdout",
          "text": [
            "+----------------------+----------+-----------+--------+--------+\n",
            "|                      | Accuracy | Precision | Recall |   F1   |\n",
            "+----------------------+----------+-----------+--------+--------+\n",
            "|        SVM           |  0.9474  |   0.9591  | 0.9357 | 0.9443 |\n",
            "|        KNN           |  0.9181  |   0.9339  | 0.9022 | 0.9126 |\n",
            "| LogisticRegression   |  0.9474  |   0.9591  | 0.9357 | 0.9443 |\n",
            "|   Random Forest      |  0.9357  |   0.9365  | 0.9302 | 0.933  |\n",
            "+----------------------+----------+-----------+--------+--------+\n"
          ]
        }
      ]
    },
    {
      "cell_type": "markdown",
      "source": [
        "#Task 3. \n",
        "The dataset consists of **2000 user-created movie reviews** archived on the IMDb(Internet Movie Database). The reviews are equally partitioned into a positive set and a negative set (1000+1000). Each review consists of a plain text file (.txt) and a class label representing the overall user opinion. \n",
        "The class attribute has only two values: **pos** (positive) or **neg** (negative).\n"
      ],
      "metadata": {
        "id": "b52OPWPD2afi"
      }
    },
    {
      "cell_type": "markdown",
      "source": [
        "*   3.1 Importing additional libraries"
      ],
      "metadata": {
        "id": "lDcxOQRmDz_h"
      }
    },
    {
      "cell_type": "code",
      "source": [
        "import nltk, random\n",
        "nltk.download('movie_reviews')#download movie reviews dataset\n",
        "from nltk.corpus import movie_reviews\n",
        "import pandas as pd\n",
        "import matplotlib.pyplot as plt\n",
        "import numpy as np\n",
        "from sklearn.model_selection import cross_val_score\n",
        "from collections import Counter\n",
        "from sklearn.model_selection import train_test_split"
      ],
      "metadata": {
        "id": "ZjyW06skDwvL",
        "colab": {
          "base_uri": "https://localhost:8080/"
        },
        "outputId": "21633efb-f05b-4a21-b327-20c220fe21bb"
      },
      "execution_count": 17,
      "outputs": [
        {
          "output_type": "stream",
          "name": "stderr",
          "text": [
            "[nltk_data] Downloading package movie_reviews to /root/nltk_data...\n",
            "[nltk_data]   Unzipping corpora/movie_reviews.zip.\n"
          ]
        }
      ]
    },
    {
      "cell_type": "markdown",
      "source": [
        "*   3.2. Movie reviews information"
      ],
      "metadata": {
        "id": "RJpsTIiyv-1h"
      }
    },
    {
      "cell_type": "code",
      "source": [
        "#code\n",
        "print(len(movie_reviews.fileids()))\n",
        "print(movie_reviews.categories())\n",
        "print(movie_reviews.words()[:100])\n",
        "print(movie_reviews.fileids()[:10])"
      ],
      "metadata": {
        "id": "5ZE7A0Au1Pg0",
        "colab": {
          "base_uri": "https://localhost:8080/"
        },
        "outputId": "d080d44d-910a-480c-c54e-08ebd77edb76"
      },
      "execution_count": 18,
      "outputs": [
        {
          "output_type": "stream",
          "name": "stdout",
          "text": [
            "2000\n",
            "['neg', 'pos']\n",
            "['plot', ':', 'two', 'teen', 'couples', 'go', 'to', ...]\n",
            "['neg/cv000_29416.txt', 'neg/cv001_19502.txt', 'neg/cv002_17424.txt', 'neg/cv003_12683.txt', 'neg/cv004_12641.txt', 'neg/cv005_29357.txt', 'neg/cv006_17022.txt', 'neg/cv007_4992.txt', 'neg/cv008_29326.txt', 'neg/cv009_29417.txt']\n"
          ]
        }
      ]
    },
    {
      "cell_type": "markdown",
      "source": [
        "*   3.3. Create dataset from movie reviews"
      ],
      "metadata": {
        "id": "6pHmMpqMHS23"
      }
    },
    {
      "cell_type": "code",
      "source": [
        "documents = [(list(movie_reviews.words(fileid)), category)\n",
        "             for category in movie_reviews.categories()\n",
        "             for fileid in movie_reviews.fileids(category)]\n",
        "random.seed(123)\n",
        "random.shuffle(documents)"
      ],
      "metadata": {
        "id": "45aY6woMHSH5"
      },
      "execution_count": 19,
      "outputs": []
    },
    {
      "cell_type": "code",
      "source": [
        "print('Number of Reviews/Documents: {}'.format(len(documents)))\n",
        "print('Corpus Size (words): {}'.format(np.sum([len(d) for (d,l) in documents])))\n",
        "print('Sample Text of Doc 1:')\n",
        "print('-'*30)\n",
        "print(' '.join(documents[0][0][:50])) # first 50 words of the first document"
      ],
      "metadata": {
        "id": "NNke0Da5HqFa",
        "colab": {
          "base_uri": "https://localhost:8080/"
        },
        "outputId": "19485cbd-ea48-477b-9385-f83b3d8f98cf"
      },
      "execution_count": 20,
      "outputs": [
        {
          "output_type": "stream",
          "name": "stdout",
          "text": [
            "Number of Reviews/Documents: 2000\n",
            "Corpus Size (words): 1583820\n",
            "Sample Text of Doc 1:\n",
            "------------------------------\n",
            "most movies seem to release a third movie just so it can be called a trilogy . rocky iii seems to kind of fit in that category , but manages to be slightly unique . the rocky formula of \" rocky loses fight / rocky trains / rocky wins fight\n"
          ]
        }
      ]
    },
    {
      "cell_type": "code",
      "source": [
        "sentiment_distr = Counter([label for (words, label) in documents])\n",
        "print(sentiment_distr)"
      ],
      "metadata": {
        "id": "vVFUEhnXHsGd",
        "colab": {
          "base_uri": "https://localhost:8080/"
        },
        "outputId": "6bcad144-a330-4b94-e2a9-9f4687b5c68e"
      },
      "execution_count": 21,
      "outputs": [
        {
          "output_type": "stream",
          "name": "stdout",
          "text": [
            "Counter({'pos': 1000, 'neg': 1000})\n"
          ]
        }
      ]
    },
    {
      "cell_type": "markdown",
      "source": [
        "*   3.4. Train test split"
      ],
      "metadata": {
        "id": "jTXiEbMzHgVC"
      }
    },
    {
      "cell_type": "code",
      "source": [
        "train, test = train_test_split(documents, test_size = 0.33, random_state=42)"
      ],
      "metadata": {
        "id": "v_-0gZZFHvJN"
      },
      "execution_count": 22,
      "outputs": []
    },
    {
      "cell_type": "code",
      "source": [
        "## Sentiment Distrubtion for Train and Test\n",
        "print(Counter([label for (words, label) in train]))\n",
        "print(Counter([label for (words, label) in test]))"
      ],
      "metadata": {
        "id": "UUGlm5TGHvpV",
        "colab": {
          "base_uri": "https://localhost:8080/"
        },
        "outputId": "44b5d02c-188a-4e11-813f-3ab70de0f75e"
      },
      "execution_count": 23,
      "outputs": [
        {
          "output_type": "stream",
          "name": "stdout",
          "text": [
            "Counter({'neg': 674, 'pos': 666})\n",
            "Counter({'pos': 334, 'neg': 326})\n"
          ]
        }
      ]
    },
    {
      "cell_type": "code",
      "source": [
        "X_train = [' '.join(words) for (words, label) in train]\n",
        "X_test = [' '.join(words) for (words, label) in test]\n",
        "y_train = [label for (words, label) in train]\n",
        "y_test = [label for (words, label) in test]"
      ],
      "metadata": {
        "id": "l1ppl_0RHx1P"
      },
      "execution_count": 24,
      "outputs": []
    },
    {
      "cell_type": "markdown",
      "source": [
        "*   3.5. Text Vectorization"
      ],
      "metadata": {
        "id": "7xUaXrjxH6Ee"
      }
    },
    {
      "cell_type": "code",
      "source": [
        "from sklearn.feature_extraction.text import CountVectorizer, TfidfVectorizer\n",
        "\n",
        "tfidf_vec = TfidfVectorizer(min_df = 10, token_pattern = r'[a-zA-Z]+')\n",
        "X_train_bow = tfidf_vec.fit_transform(X_train) # fit train\n",
        "X_test_bow = tfidf_vec.transform(X_test) # transform test"
      ],
      "metadata": {
        "id": "fzwM0nsIH-8l"
      },
      "execution_count": 25,
      "outputs": []
    },
    {
      "cell_type": "markdown",
      "source": [
        "*   3.6. Apply **SVM** with **GridSearchCV** "
      ],
      "metadata": {
        "id": "BP1vB3loIF28"
      }
    },
    {
      "cell_type": "code",
      "source": [
        "#SVM\n",
        "svm_class = svm.SVC()\n",
        "param_grid = {'C': [0.1, 1, 10, 100, 1000],\n",
        "              'gamma': [1, 0.1, 0.01, 0.001, 0.0001],\n",
        "              'kernel': ['rbf','linear']}\n",
        "grid_svm_class = GridSearchCV(estimator=svm_class, param_grid=param_grid, scoring='accuracy', n_jobs=4, cv=10, refit=True, return_train_score=True)\n",
        "\n",
        "grid_svm_class.fit(X_train_bow,y_train)\n",
        "y_pred = grid_svm_class.predict(X_test_bow)\n",
        "\n",
        "print(grid_svm_class.best_params_)\n",
        "accuracy_svm = round(accuracy_score(y_test, y_pred),4)\n",
        "precison_svm = round(precision_score(y_test, y_pred, average='macro'),4)\n",
        "recall_svm= round(recall_score(y_test, y_pred, average='macro'),4)\n",
        "f1_svm = round(f1_score(y_test, y_pred, average='macro'),4)"
      ],
      "metadata": {
        "id": "b3FHQqh1Hlrd",
        "colab": {
          "base_uri": "https://localhost:8080/"
        },
        "outputId": "91ea614e-f5c1-4867-e99b-0c3b9ef96e6c"
      },
      "execution_count": 29,
      "outputs": [
        {
          "output_type": "stream",
          "name": "stdout",
          "text": [
            "{'C': 10, 'gamma': 0.1, 'kernel': 'rbf'}\n"
          ]
        }
      ]
    },
    {
      "cell_type": "markdown",
      "source": [
        "*   3.7. Apply **RandomForest** with **GridSearchCV** "
      ],
      "metadata": {
        "id": "N1Fy8jYBIdxi"
      }
    },
    {
      "cell_type": "code",
      "source": [
        "#RandomForest\n",
        "param_grid = {\n",
        "    'n_estimators': [25, 50, 100],\n",
        "    'max_features': ['sqrt', 'log2', None],\n",
        "    'max_depth': [3, 6, 9],\n",
        "    'max_leaf_nodes': [3, 6, 9],\n",
        "}\n",
        "rf_class = RandomForestClassifier(criterion='entropy', max_features='auto')\n",
        "grid_rf_class = GridSearchCV(estimator=rf_class, param_grid=param_grid, scoring='accuracy', n_jobs=4, cv=10, refit=True, return_train_score=True)\n",
        "\n",
        "grid_rf_class.fit(X_train_bow,y_train)\n",
        "y_pred = grid_rf_class.predict(X_test_bow)\n",
        "\n",
        "print(grid_rf_class.best_params_)\n",
        "accuracy_rf = round(accuracy_score(y_test, y_pred),4)\n",
        "precison_rf = round(precision_score(y_test, y_pred, average='macro'),4)\n",
        "recall_rf= round(recall_score(y_test, y_pred, average='macro'),4)\n",
        "f1_rf = round(f1_score(y_test, y_pred, average='macro'),4)"
      ],
      "metadata": {
        "id": "Fyfw2R-gIhWl",
        "colab": {
          "base_uri": "https://localhost:8080/"
        },
        "outputId": "58745505-c812-4ca2-f5d8-04004ec0d50b"
      },
      "execution_count": 33,
      "outputs": [
        {
          "output_type": "stream",
          "name": "stdout",
          "text": [
            "{'max_depth': 9, 'max_features': 'sqrt', 'max_leaf_nodes': 9, 'n_estimators': 100}\n"
          ]
        }
      ]
    },
    {
      "cell_type": "markdown",
      "source": [
        "*   3.8. Apply **kNN** with **GridSearchCV** "
      ],
      "metadata": {
        "id": "_btsVKjIIiLT"
      }
    },
    {
      "cell_type": "code",
      "source": [
        "#kNN\n",
        "grid_params = { 'n_neighbors' : [5,7,9],\n",
        "               'weights' : ['uniform','distance'],\n",
        "               'metric' : ['minkowski','euclidean','manhattan']}\n",
        "               \n",
        "kNN = KNeighborsClassifier()\n",
        "grid_kNN_class = GridSearchCV(estimator=kNN, param_grid=grid_params, scoring='accuracy', n_jobs=4, cv=10, refit=True, return_train_score=True)\n",
        "\n",
        "grid_kNN_class.fit(X_train_bow,y_train)\n",
        "y_pred = grid_kNN_class.predict(X_test_bow)\n",
        "\n",
        "print(grid_kNN_class.best_params_)\n",
        "accuracy_kNN = round(accuracy_score(y_test, y_pred),4)\n",
        "precison_kNN = round(precision_score(y_test, y_pred, average='macro'),4)\n",
        "recall_kNN= round(recall_score(y_test, y_pred, average='macro'),4)\n",
        "f1_kNN = round(f1_score(y_test, y_pred, average='macro'),4)"
      ],
      "metadata": {
        "id": "IZmFu1ZQImhn"
      },
      "execution_count": null,
      "outputs": []
    },
    {
      "cell_type": "markdown",
      "source": [
        "*   3.9. Apply **LogisticRegression** with **GridSearchCV** "
      ],
      "metadata": {
        "id": "0Ix_HeVGIvDu"
      }
    },
    {
      "cell_type": "code",
      "source": [
        "#code"
      ],
      "metadata": {
        "id": "sTd3alCMIr-i"
      },
      "execution_count": null,
      "outputs": []
    },
    {
      "cell_type": "markdown",
      "source": [
        "*   3.10. Compare the best obtained results among classification algorithms (use PrettyTable to dispaly the results) "
      ],
      "metadata": {
        "id": "nhYF2y6eI058"
      }
    },
    {
      "cell_type": "markdown",
      "source": [
        "#Finally,\n",
        "Save a copy in your Github. Remember renaming the notebook."
      ],
      "metadata": {
        "id": "Ok7RGkea_b7n"
      }
    }
  ]
}