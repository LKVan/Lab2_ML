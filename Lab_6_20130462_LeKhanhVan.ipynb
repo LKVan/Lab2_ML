{
  "nbformat": 4,
  "nbformat_minor": 0,
  "metadata": {
    "colab": {
      "provenance": [],
      "include_colab_link": true
    },
    "kernelspec": {
      "name": "python3",
      "display_name": "Python 3"
    },
    "language_info": {
      "name": "python"
    }
  },
  "cells": [
    {
      "cell_type": "markdown",
      "metadata": {
        "id": "view-in-github",
        "colab_type": "text"
      },
      "source": [
        "<a href=\"https://colab.research.google.com/github/LKVan/Lab2_ML/blob/van/Lab_6_20130462_LeKhanhVan.ipynb\" target=\"_parent\"><img src=\"https://colab.research.google.com/assets/colab-badge.svg\" alt=\"Open In Colab\"/></a>"
      ]
    },
    {
      "cell_type": "markdown",
      "source": [
        "# This lab is to deal with classification task using **Random Forests** and **Naïve Bayes** algorithms with/without **Feature Selection**. \n",
        "\n",
        "*   **Deadline: 23:59, 25/03/2023**\n",
        "\n"
      ],
      "metadata": {
        "id": "LMzehe0sy5wr"
      }
    },
    {
      "cell_type": "markdown",
      "source": [
        "# Import libraries"
      ],
      "metadata": {
        "id": "H4nJmxp9zGX4"
      }
    },
    {
      "cell_type": "code",
      "source": [
        "# connect drive\n",
        "from google.colab import drive\n",
        "drive.mount('/content/gdrive')\n",
        "%cd '/content/gdrive/MyDrive/ML_Lab6'"
      ],
      "metadata": {
        "colab": {
          "base_uri": "https://localhost:8080/"
        },
        "id": "hO4-jto3NKo6",
        "outputId": "9fb93c1e-b717-4d93-ed1d-5d0bee4b36c9"
      },
      "execution_count": 81,
      "outputs": [
        {
          "output_type": "stream",
          "name": "stdout",
          "text": [
            "Drive already mounted at /content/gdrive; to attempt to forcibly remount, call drive.mount(\"/content/gdrive\", force_remount=True).\n",
            "/content/gdrive/MyDrive/ML_Lab6\n"
          ]
        }
      ]
    },
    {
      "cell_type": "code",
      "execution_count": 82,
      "metadata": {
        "id": "DoVWQ8AEyc-C"
      },
      "outputs": [],
      "source": [
        "# code\n",
        "import numpy as np\n",
        "import pandas as pd\n",
        "import matplotlib.pyplot as plt\n",
        "from sklearn.metrics import confusion_matrix\n",
        "from sklearn.metrics import precision_score\n",
        "from sklearn.metrics import recall_score\n",
        "from sklearn.metrics import accuracy_score\n",
        "from sklearn import datasets\n",
        "from sklearn.model_selection import train_test_split\n",
        "from sklearn import metrics\n",
        "from sklearn import svm\n",
        "from sklearn.metrics import ConfusionMatrixDisplay\n",
        "from sklearn.linear_model import LogisticRegression\n",
        "from sklearn.neighbors import KNeighborsClassifier\n",
        "from sklearn.tree import DecisionTreeClassifier\n",
        "from prettytable import PrettyTable\n",
        "from sklearn.metrics import classification_report\n",
        "from sklearn.ensemble import RandomForestClassifier\n",
        "from sklearn.feature_selection import SelectKBest\n",
        "from sklearn.feature_selection import f_classif\n",
        "from sklearn.feature_selection import RFE\n",
        "from sklearn.naive_bayes import GaussianNB\n",
        "from sklearn.ensemble import ExtraTreesClassifier\n",
        "import seaborn as sns\n",
        "from sklearn.preprocessing import StandardScaler\n",
        "from sklearn.preprocessing import OneHotEncoder\n"
      ]
    },
    {
      "cell_type": "markdown",
      "source": [
        "#Task 1. \n",
        "Task 1. Compare the performance of selected classification algorithms including **Random forest**, **NaiveBayes**, and **SVM** with **mnist** dataset based on **accuracy, precision, recall, f1** measures according to **without using selection feature** and **using selection feature**.\n",
        "\n"
      ],
      "metadata": {
        "id": "kNv07ARGzOUm"
      }
    },
    {
      "cell_type": "code",
      "source": [
        "# code\n",
        "mnist = datasets.load_digits(as_frame=True)\n",
        "X = mnist.data\n",
        "Y = mnist.target"
      ],
      "metadata": {
        "id": "sOsg77IBzEyo"
      },
      "execution_count": null,
      "outputs": []
    },
    {
      "cell_type": "code",
      "source": [
        "# using selection feature\n",
        "#Create a Random Forest Classifier\n",
        "clf=RandomForestClassifier(n_estimators=100)\n",
        "\n",
        "#Train the model using the training sets y_pred=clf.predict(X_test)\n",
        "clf.fit(X,Y)\n",
        "\n",
        "feature_imp = pd.Series(clf.feature_importances_,index=mnist.feature_names).sort_values(ascending=False)\n",
        "%matplotlib inline\n",
        "# Creating a bar plot\n",
        "sns.barplot(x=feature_imp, y=feature_imp.index)\n",
        "# Add labels to your graph\n",
        "plt.xlabel('Feature Importance Score')\n",
        "plt.ylabel('Features')\n",
        "plt.title(\"Visualizing Important Features\")\n",
        "plt.legend()\n",
        "plt.show()\n",
        "\n",
        "features = feature_imp.index[0:5].values\n",
        "X_new = X[feature_imp.index[0:5]]\n",
        "x_train_new, x_test_new, y_train_new, y_test_new = train_test_split(X_new, Y, test_size=0.3, random_state=1)\n",
        "\n",
        "# without using selection feature\n",
        "x_train, x_test, y_train, y_test = train_test_split(X,Y, test_size=0.3, train_size=0.7,\n",
        "random_state=None, shuffle=True, stratify=None)\n",
        "\n",
        "t = PrettyTable(['Algorithms', 'Accuraty','Precision','Recall','F1'])"
      ],
      "metadata": {
        "colab": {
          "base_uri": "https://localhost:8080/",
          "height": 332
        },
        "id": "vXQ04kCvNiRp",
        "outputId": "0c04f514-aa1f-4aa3-a137-c7ee1d8bb793"
      },
      "execution_count": null,
      "outputs": [
        {
          "output_type": "stream",
          "name": "stderr",
          "text": [
            "WARNING:matplotlib.legend:No artists with labels found to put in legend.  Note that artists whose label start with an underscore are ignored when legend() is called with no argument.\n"
          ]
        },
        {
          "output_type": "display_data",
          "data": {
            "text/plain": [
              "<Figure size 432x288 with 1 Axes>"
            ],
            "image/png": "[encoded data removed]"
          },
          "metadata": {
            "needs_background": "light"
          }
        }
      ]
    },
    {
      "cell_type": "code",
      "source": [
        "# Random forest without using selection feature\n",
        "rf = RandomForestClassifier(n_estimators=100)\n",
        "rf.fit(x_train,y_train)\n",
        "y_pred_rf = rf.predict(x_test)\n",
        "\n",
        "accuracy_rf = round(metrics.accuracy_score(y_test,y_pred_rf),4)\n",
        "precision_rf = round(metrics.precision_score(y_test,y_pred_rf,average='macro'),4)\n",
        "recall_rf = round(metrics.recall_score(y_test,y_pred_rf,average='macro'),4)\n",
        "f1_rf = round(metrics.f1_score(y_test,y_pred_rf,average='macro'),4)\n",
        "t.add_row(['RFwithoutSelectionFeature', accuracy_rf,precision_rf,recall_rf,f1_rf])"
      ],
      "metadata": {
        "id": "e6cwHQJjNoPx"
      },
      "execution_count": null,
      "outputs": []
    },
    {
      "cell_type": "code",
      "source": [
        "# Random forest using selection feature\n",
        "rf = RandomForestClassifier(n_estimators=100)\n",
        "rf.fit(x_train_new,y_train_new)\n",
        "y_pred_rf = rf.predict(x_test_new)\n",
        "\n",
        "accuracy_rf = round(metrics.accuracy_score(y_test_new,y_pred_rf),4)\n",
        "precision_rf = round(metrics.precision_score(y_test_new,y_pred_rf,average='macro'),4)\n",
        "recall_rf = round(metrics.recall_score(y_test_new,y_pred_rf,average='macro'),4)\n",
        "f1_rf = round(metrics.f1_score(y_test_new,y_pred_rf,average='macro'),4)\n",
        "t.add_row(['RFUsingSelectionFeature', accuracy_rf,precision_rf,recall_rf,f1_rf])"
      ],
      "metadata": {
        "id": "cNtPEO59Ntni"
      },
      "execution_count": null,
      "outputs": []
    },
    {
      "cell_type": "code",
      "source": [
        "# SVM linear without using selection feature\n",
        "linear = svm.SVC(kernel='linear')\n",
        "linear.fit(x_train,y_train)\n",
        "y_pred_linear = linear.predict(x_test)\n",
        "\n",
        "accuracy_linear = round(metrics.accuracy_score(y_test,y_pred_linear),4)\n",
        "precision_linear = round(metrics.precision_score(y_test,y_pred_linear,average='macro'),4)\n",
        "recall_linear = round(metrics.recall_score(y_test,y_pred_linear,average='macro'),4)\n",
        "f1_linear = round(metrics.f1_score(y_test,y_pred_linear,average='macro'),4)\n",
        "t.add_row(['SVM without using selection feature', accuracy_linear,precision_linear,recall_linear,f1_linear])"
      ],
      "metadata": {
        "id": "WC28R1bUNwyh"
      },
      "execution_count": null,
      "outputs": []
    },
    {
      "cell_type": "code",
      "source": [
        "# SVM linear using selection feature\n",
        "linear = svm.SVC(kernel='linear')\n",
        "linear.fit(x_train_new,y_train_new)\n",
        "y_pred_linear = linear.predict(x_test_new)\n",
        "\n",
        "accuracy_linear = round(metrics.accuracy_score(y_test_new,y_pred_linear),4)\n",
        "precision_linear = round(metrics.precision_score(y_test_new,y_pred_linear,average='macro'),4)\n",
        "recall_linear = round(metrics.recall_score(y_test_new,y_pred_linear,average='macro'),4)\n",
        "f1_linear = round(metrics.f1_score(y_test_new,y_pred_linear,average='macro'),4)\n",
        "t.add_row(['SVM using selection feature', accuracy_linear,precision_linear,recall_linear,f1_linear])"
      ],
      "metadata": {
        "id": "4Dt7_CwqN0KT"
      },
      "execution_count": null,
      "outputs": []
    },
    {
      "cell_type": "code",
      "source": [
        "# GaussianNB without using selection feature\n",
        "gau = GaussianNB()\n",
        "gau.fit(x_train,y_train)\n",
        "y_pred_gau = gau.predict(x_test)\n",
        "\n",
        "accuracy_gau = round(metrics.accuracy_score(y_test,y_pred_gau),4)\n",
        "precision_gau = round(metrics.precision_score(y_test,y_pred_gau,average='macro'),4)\n",
        "recall_gau = round(metrics.recall_score(y_test,y_pred_gau,average='macro'),4)\n",
        "f1_gau = round(metrics.f1_score(y_test,y_pred_gau,average='macro'),4)\n",
        "t.add_row(['GaussianNBwithoutSelectionFeature', accuracy_gau,precision_gau,recall_gau,f1_gau])"
      ],
      "metadata": {
        "id": "1hNYnWJpN3A_"
      },
      "execution_count": null,
      "outputs": []
    },
    {
      "cell_type": "code",
      "source": [
        "# GaussianNB using selection feature\n",
        "gau = GaussianNB()\n",
        "gau.fit(x_train_new,y_train_new)\n",
        "y_pred_gau = gau.predict(x_test_new)\n",
        "\n",
        "accuracy_gau = round(metrics.accuracy_score(y_test_new,y_pred_gau),4)\n",
        "precision_gau = round(metrics.precision_score(y_test_new,y_pred_gau,average='macro'),4)\n",
        "recall_gau = round(metrics.recall_score(y_test_new,y_pred_gau,average='macro'),4)\n",
        "f1_gau = round(metrics.f1_score(y_test_new,y_pred_gau,average='macro'),4)\n",
        "t.add_row(['GaussianNBusingSelectionFeature', accuracy_gau,precision_gau,recall_gau,f1_gau])"
      ],
      "metadata": {
        "id": "zpEMI0rUOQeb"
      },
      "execution_count": null,
      "outputs": []
    },
    {
      "cell_type": "code",
      "source": [
        "print(t)"
      ],
      "metadata": {
        "colab": {
          "base_uri": "https://localhost:8080/"
        },
        "id": "ZP7guDODOUxu",
        "outputId": "83344855-ca3a-4321-c271-73c488ea29f5"
      },
      "execution_count": null,
      "outputs": [
        {
          "output_type": "stream",
          "name": "stdout",
          "text": [
            "+-------------------------------------+----------+-----------+--------+--------+\n",
            "|              Algorithms             | Accuraty | Precision | Recall |   F1   |\n",
            "+-------------------------------------+----------+-----------+--------+--------+\n",
            "|      RFwithoutSelectionFeature      |  0.9704  |   0.9715  | 0.9702 | 0.9703 |\n",
            "|       RFUsingSelectionFeature       |  0.7315  |   0.7307  | 0.7297 | 0.725  |\n",
            "| SVM without using selection feature |  0.9815  |   0.9806  | 0.9804 | 0.9804 |\n",
            "|     SVM using selection feature     |  0.7111  |   0.6974  | 0.7047 | 0.6946 |\n",
            "|  GaussianNBwithoutSelectionFeature  |  0.8352  |   0.864   | 0.8322 | 0.8343 |\n",
            "|   GaussianNBusingSelectionFeature   |  0.6963  |   0.6713  | 0.6886 | 0.6702 |\n",
            "+-------------------------------------+----------+-----------+--------+--------+\n"
          ]
        }
      ]
    },
    {
      "cell_type": "markdown",
      "source": [
        "#Task 2. \n",
        "For given bank dataset (bank.csv) having the following attributes :\n",
        "1.\t**age** (numeric)\n",
        "2.\t**job** : type of job (categorical: 'admin.','blue-collar','entrepreneur','housemaid','management','retired','self-employed','services','student','technician','unemployed','unknown')\n",
        "3.\t**marital** : marital status (categorical: 'divorced','married','single','unknown'; note: 'divorced' means divorced or widowed)\n",
        "4.\t**education** (categorical: 'basic.4y','basic.6y','basic.9y','high.school','illiterate','professional.course','university.degree','unknown')\n",
        "5.\t**default**: has credit in default? (categorical: 'no','yes','unknown')\n",
        "6.\t**housing**: has housing loan? (categorical: 'no','yes','unknown')\n",
        "7.\t**loan**: has personal loan? (categorical: 'no','yes','unknown')\n",
        "8.\t**contact**: contact communication type (categorical: 'cellular','telephone')\n",
        "9.\t**month**: last contact month of year (categorical: 'jan', 'feb', 'mar', ..., 'nov', 'dec')\n",
        "10.\t**day_of_week**: last contact day of the week (categorical: 'mon','tue','wed','thu','fri')\n",
        "11.\t**duration**: last contact duration, in seconds (numeric). Important note: this attribute highly affects the output target (e.g., if duration=0 then y='no'). Yet, the duration is not known before a call is performed. Also, after the end of the call y is obviously known. Thus, this input should only be included for benchmark purposes and should be discarded if the intention is to have a realistic predictive model.\n",
        "12.\t**campaign**: number of contacts performed during this campaign and for this client (numeric, includes last contact)\n",
        "13.\t**pdays**: number of days that passed by after the client was last contacted from a previous campaign (numeric; 999 means client was not previously contacted)\n",
        "14.\t**previous**: number of contacts performed before this campaign and for this client (numeric)\n",
        "15.\t**poutcome**: outcome of the previous marketing campaign (categorical: 'failure','nonexistent','success')\n",
        "Output variable (desired target):\n",
        "16.\t**y**. has the client subscribed a term deposit? (binary: 'yes','no')\n",
        "\n"
      ],
      "metadata": {
        "id": "b52OPWPD2afi"
      }
    },
    {
      "cell_type": "code",
      "source": [
        "bank = pd.read_csv('bank.csv')\n",
        "bank.columns"
      ],
      "metadata": {
        "colab": {
          "base_uri": "https://localhost:8080/"
        },
        "id": "xNVr0BOLOsJZ",
        "outputId": "ea12b432-c93b-46e7-8200-7ef8d617dc3e"
      },
      "execution_count": null,
      "outputs": [
        {
          "output_type": "execute_result",
          "data": {
            "text/plain": [
              "Index(['age', 'job', 'marital', 'education', 'default', 'balance', 'housing',\n",
              "       'loan', 'contact', 'day', 'month', 'duration', 'campaign', 'pdays',\n",
              "       'previous', 'poutcome', 'deposit'],\n",
              "      dtype='object')"
            ]
          },
          "metadata": {},
          "execution_count": 27
        }
      ]
    },
    {
      "cell_type": "markdown",
      "source": [
        "#3.1. Apply StandardScaler() function to columns that contains numerical data ('age', 'balance', 'day', 'campaign', 'pdays', 'previous')"
      ],
      "metadata": {
        "id": "q89LEvT7dqaZ"
      }
    },
    {
      "cell_type": "code",
      "source": [
        "#code\n",
        "stadard = StandardScaler().fit_transform(bank[['age', 'balance', 'day', 'campaign', 'pdays', 'previous']])\n",
        "bank[['age', 'balance', 'day', 'campaign', 'pdays', 'previous']] = stadard"
      ],
      "metadata": {
        "id": "8vx3mfIidu4P"
      },
      "execution_count": null,
      "outputs": []
    },
    {
      "cell_type": "markdown",
      "source": [
        "#3.2. Apply Encode Categorical Value (OneHotEncoder) to transfrom categorical data to numerical data ('job', 'marital', 'education', 'default', 'housing', 'loan', 'contact', 'month', 'poutcome')"
      ],
      "metadata": {
        "id": "r7acR0TxdvY8"
      }
    },
    {
      "cell_type": "code",
      "source": [
        "#code\n",
        "onehot = OneHotEncoder(drop='first',sparse=False,dtype=np.int32)\n",
        "encode = onehot.fit_transform(bank[['job', 'marital', 'education', 'default', 'housing', 'loan', 'contact', 'month', 'poutcome']])\n",
        "print(encode.shape)\n",
        "merged = np.hstack((bank[['age', 'balance', 'day', 'campaign', 'pdays', 'previous']].values,encode))\n",
        "print(merged)"
      ],
      "metadata": {
        "id": "egtgBmAtd0um",
        "colab": {
          "base_uri": "https://localhost:8080/"
        },
        "outputId": "188499d8-88f8-4503-dabb-64ec2fcbb157"
      },
      "execution_count": null,
      "outputs": [
        {
          "output_type": "stream",
          "name": "stdout",
          "text": [
            "(11162, 35)\n",
            "[[ 1.49150488  0.25252514 -1.26574556 ...  0.          0.\n",
            "   1.        ]\n",
            " [ 1.23967567 -0.4599736  -1.26574556 ...  0.          0.\n",
            "   1.        ]\n",
            " [-0.0194704  -0.0801603  -1.26574556 ...  0.          0.\n",
            "   1.        ]\n",
            " ...\n",
            " [-0.77495804 -0.46493443  0.39689074 ...  0.          0.\n",
            "   1.        ]\n",
            " [ 0.14841574 -0.47392593 -0.90946635 ...  0.          0.\n",
            "   0.        ]\n",
            " [-0.6070719  -0.47392593 -0.79070662 ...  0.          0.\n",
            "   1.        ]]\n"
          ]
        },
        {
          "output_type": "stream",
          "name": "stderr",
          "text": [
            "/usr/local/lib/python3.9/dist-packages/sklearn/preprocessing/_encoders.py:868: FutureWarning: `sparse` was renamed to `sparse_output` in version 1.2 and will be removed in 1.4. `sparse_output` is ignored unless you leave `sparse` to its default value.\n",
            "  warnings.warn(\n"
          ]
        }
      ]
    },
    {
      "cell_type": "markdown",
      "source": [
        "#3.3. Apply **Decision tree, Random forest, kNN, NaïveBayes** to preproceed dataset in the previous steps. Then compare the obtained results using **accuracy, precision, recall, f1** measures."
      ],
      "metadata": {
        "id": "K2Si6d69d1nh"
      }
    },
    {
      "cell_type": "code",
      "source": [
        "#code\n",
        "X_train_task2, X_test_task2, Y_train_task2, Y_test_task2 = train_test_split(merged, bank['deposit'], test_size = 0.3, train_size=0.7,random_state=1)"
      ],
      "metadata": {
        "id": "Ouil-cf_d8jW"
      },
      "execution_count": null,
      "outputs": []
    },
    {
      "cell_type": "code",
      "source": [
        "# Decision Tree\n",
        "clf_DT = DecisionTreeClassifier(criterion=\"gini\", random_state=42, max_depth=3, min_samples_leaf=5)\n",
        "clf_DT.fit(X_train_task2, Y_train_task2)\n",
        "y_pred_DT = clf_DT.predict(X_test_task2)\n",
        "\n",
        "aces_DT = round(metrics.accuracy_score(Y_test_task2,y_pred_DT),4)\n",
        "precision_DT = round(metrics.precision_score(Y_test_task2, y_pred_DT, average='macro'),4)\n",
        "recall_DT = round(metrics.recall_score(Y_test_task2, y_pred_DT, average='macro'),4)\n",
        "f1_DT = round(metrics.f1_score(Y_test_task2, y_pred_DT, average='macro'),4)"
      ],
      "metadata": {
        "id": "ihIyoKoGQZyT"
      },
      "execution_count": null,
      "outputs": []
    },
    {
      "cell_type": "code",
      "source": [
        "# Random Forest \n",
        "rf_task2 = RandomForestClassifier(n_estimators=100)\n",
        "rf_task2.fit(X_train_task2, Y_train_task2)\n",
        "y_pred_rf_task2 = rf_task2.predict(X_test_task2)\n",
        "\n",
        "aces_RF = round(metrics.accuracy_score(Y_test_task2, y_pred_rf_task2),4)\n",
        "precision_RF = round(metrics.precision_score(Y_test_task2,y_pred_rf_task2, average='macro'),4)\n",
        "recall_RF = round(metrics.recall_score(Y_test_task2, y_pred_rf_task2, average='macro'),4)\n",
        "f1_RF = round(metrics.f1_score(Y_test_task2, y_pred_rf_task2, average='macro'),4)"
      ],
      "metadata": {
        "id": "q1WHd-eDQ_8P"
      },
      "execution_count": null,
      "outputs": []
    },
    {
      "cell_type": "code",
      "source": [
        "# kNN\n",
        "kNN = KNeighborsClassifier(n_neighbors = 5)\n",
        "kNN.fit(X_train_task2, Y_train_task2)\n",
        "y_pred_kNN = kNN.predict(X_test_task2)\n",
        "\n",
        "aces_kNN = round(metrics.accuracy_score(Y_test_task2, y_pred_kNN ),4)\n",
        "precision_kNN = round(metrics.precision_score(Y_test_task2, y_pred_kNN , average='macro'),4)\n",
        "recall_kNN = round(metrics.recall_score(Y_test_task2, y_pred_kNN , average='macro'),4)\n",
        "f1_kNN = round(metrics.f1_score(Y_test_task2, y_pred_kNN , average='macro'),4)"
      ],
      "metadata": {
        "id": "vqEZX_IlRC6B"
      },
      "execution_count": null,
      "outputs": []
    },
    {
      "cell_type": "code",
      "source": [
        "# NaiveBayes \n",
        "nb_task2 = GaussianNB()\n",
        "nb_task2.fit(X_train_task2, Y_train_task2)\n",
        "y_pred_NB = nb_task2.predict(X_test_task2)\n",
        "\n",
        "aces_NB = round(metrics.accuracy_score(Y_test_task2, y_pred_NB),4)\n",
        "precision_NB =round(metrics.precision_score(Y_test_task2, y_pred_NB, average='macro'),4)\n",
        "recall_NB = round(metrics.recall_score(Y_test_task2, y_pred_NB, average='macro'),4)\n",
        "f1_NB = round(metrics.f1_score(Y_test_task2, y_pred_NB, average='macro'),4)"
      ],
      "metadata": {
        "id": "frllxys5RE6M"
      },
      "execution_count": null,
      "outputs": []
    },
    {
      "cell_type": "code",
      "source": [
        "table_task2 = PrettyTable([\"\",\"Accuracy\", \"Precision\", \"Recall\", \"F1\"])\n",
        "\n",
        "table_task2.add_row([\"Decision Tree \", aces_DT, precision_DT, recall_DT, f1_DT])\n",
        "table_task2.add_row([\"Random Forest  \",aces_RF, precision_RF, recall_RF, f1_RF])\n",
        "table_task2.add_row([\"KNN  \",aces_kNN, precision_kNN, recall_kNN, f1_kNN])\n",
        "table_task2.add_row([\"NaiveBayes   \",aces_NB, precision_NB, recall_NB, f1_NB])\n",
        "\n",
        "print(table_task2)"
      ],
      "metadata": {
        "colab": {
          "base_uri": "https://localhost:8080/"
        },
        "id": "gRltJd6dRHVV",
        "outputId": "ad778d55-7efc-4604-87b0-39405309f25e"
      },
      "execution_count": null,
      "outputs": [
        {
          "output_type": "stream",
          "name": "stdout",
          "text": [
            "+-----------------+----------+-----------+--------+--------+\n",
            "|                 | Accuracy | Precision | Recall |   F1   |\n",
            "+-----------------+----------+-----------+--------+--------+\n",
            "|  Decision Tree  |  0.6411  |   0.6415  | 0.6418 | 0.641  |\n",
            "| Random Forest   |  0.7235  |   0.7274  | 0.719  | 0.7191 |\n",
            "|      KNN        |  0.6772  |   0.6783  | 0.6731 | 0.6729 |\n",
            "|  NaiveBayes     |  0.6745  |   0.703   | 0.6637 | 0.6534 |\n",
            "+-----------------+----------+-----------+--------+--------+\n"
          ]
        }
      ]
    },
    {
      "cell_type": "markdown",
      "source": [
        "#3.4. Using selection feature to above dataset, then compare the classification results with those in Task 2.3. "
      ],
      "metadata": {
        "id": "SweVRB4meApP"
      }
    },
    {
      "cell_type": "code",
      "source": [
        "#code\n",
        "# using selection feature\n",
        "#Create a Random Forest Classifier\n",
        "clf=RandomForestClassifier(n_estimators=100)\n",
        "\n",
        "#Train the model using the training sets y_pred=clf.predict(X_test)\n",
        "clf.fit(merged,bank['deposit'])\n",
        "index = range(0,41)\n",
        "feature_imp = pd.Series(clf.feature_importances_,index=index).sort_values(ascending=False)\n",
        "%matplotlib inline\n",
        "# Creating a bar plot\n",
        "sns.barplot(y=feature_imp, x=feature_imp.index)\n",
        "# Add labels to your graph\n",
        "plt.ylabel('Feature Importance Score')\n",
        "plt.xlabel('Features')\n",
        "plt.title(\"Visualizing Important Features\")\n",
        "plt.legend()\n",
        "plt.show()\n",
        "\n",
        "X_new = merged[:,feature_imp.index[0:5]]\n",
        "print(X_new.shape)\n",
        "print(bank.shape)\n",
        "x_train_new, x_test_new, y_train_new, y_test_new = train_test_split(X_new, bank['deposit'], test_size=0.3, random_state=1)\n"
      ],
      "metadata": {
        "id": "seFBhqCSeC7C",
        "colab": {
          "base_uri": "https://localhost:8080/",
          "height": 367
        },
        "outputId": "83030ee7-ce59-4ed9-dbed-40e16dcadf80"
      },
      "execution_count": null,
      "outputs": [
        {
          "output_type": "stream",
          "name": "stderr",
          "text": [
            "WARNING:matplotlib.legend:No artists with labels found to put in legend.  Note that artists whose label start with an underscore are ignored when legend() is called with no argument.\n"
          ]
        },
        {
          "output_type": "display_data",
          "data": {
            "text/plain": [
              "<Figure size 432x288 with 1 Axes>"
            ],
            "image/png": "[encoded data removed]"
          },
          "metadata": {
            "needs_background": "light"
          }
        },
        {
          "output_type": "stream",
          "name": "stdout",
          "text": [
            "(11162, 5)\n",
            "(11162, 17)\n"
          ]
        }
      ]
    },
    {
      "cell_type": "code",
      "source": [
        "# Decision Tree\n",
        "clf_DT = DecisionTreeClassifier(criterion=\"gini\", random_state=42, max_depth=3, min_samples_leaf=5)\n",
        "clf_DT.fit(x_train_new, y_train_new)\n",
        "y_pred_DT = clf_DT.predict(x_test_new)\n",
        "\n",
        "aces_DT = round(metrics.accuracy_score(y_test_new,y_pred_DT),4)\n",
        "precision_DT = round(metrics.precision_score(y_test_new, y_pred_DT, average='macro'),4)\n",
        "recall_DT = round(metrics.recall_score(y_test_new, y_pred_DT, average='macro'),4)\n",
        "f1_DT = round(metrics.f1_score(y_test_new, y_pred_DT, average='macro'),4)"
      ],
      "metadata": {
        "id": "0xD9txo-psrj"
      },
      "execution_count": null,
      "outputs": []
    },
    {
      "cell_type": "code",
      "source": [
        "# Random Forest \n",
        "rf = RandomForestClassifier(n_estimators=100)\n",
        "rf.fit(x_train_new, y_train_new)\n",
        "y_pred_rf = rf.predict(x_test_new)\n",
        "\n",
        "aces_RF = round(metrics.accuracy_score(y_test_new, y_pred_rf),4)\n",
        "precision_RF = round(metrics.precision_score(y_test_new,y_pred_rf, average='macro'),4)\n",
        "recall_RF = round(metrics.recall_score(y_test_new, y_pred_rf, average='macro'),4)\n",
        "f1_RF = round(metrics.f1_score(y_test_new, y_pred_rf, average='macro'),4)"
      ],
      "metadata": {
        "id": "SGC6AVvuqFJb"
      },
      "execution_count": null,
      "outputs": []
    },
    {
      "cell_type": "code",
      "source": [
        "# kNN\n",
        "kNN = KNeighborsClassifier(n_neighbors = 5)\n",
        "kNN.fit(x_train_new, y_train_new)\n",
        "y_pred_kNN = kNN.predict(x_test_new)\n",
        "\n",
        "aces_kNN = round(metrics.accuracy_score(y_test_new, y_pred_kNN ),4)\n",
        "precision_kNN = round(metrics.precision_score(y_test_new, y_pred_kNN , average='macro'),4)\n",
        "recall_kNN = round(metrics.recall_score(y_test_new, y_pred_kNN , average='macro'),4)\n",
        "f1_kNN = round(metrics.f1_score(y_test_new, y_pred_kNN , average='macro'),4)"
      ],
      "metadata": {
        "id": "NhZzi6N1qkV8"
      },
      "execution_count": null,
      "outputs": []
    },
    {
      "cell_type": "code",
      "source": [
        "# NaiveBayes \n",
        "nb = GaussianNB()\n",
        "nb.fit(x_train_new, y_train_new)\n",
        "y_pred_NB = nb.predict(x_test_new)\n",
        "\n",
        "aces_NB = round(metrics.accuracy_score(y_test_new, y_pred_NB),4)\n",
        "precision_NB =round(metrics.precision_score(y_test_new, y_pred_NB, average='macro'),4)\n",
        "recall_NB = round(metrics.recall_score(y_test_new, y_pred_NB, average='macro'),4)\n",
        "f1_NB = round(metrics.f1_score(y_test_new, y_pred_NB, average='macro'),4)"
      ],
      "metadata": {
        "id": "IyvRBHfWqzmO"
      },
      "execution_count": null,
      "outputs": []
    },
    {
      "cell_type": "code",
      "source": [
        "table_task3 = PrettyTable([\"\",\"Accuracy\", \"Precision\", \"Recall\", \"F1\"])\n",
        "\n",
        "table_task3.add_row([\"Decision Tree \", aces_DT, precision_DT, recall_DT, f1_DT])\n",
        "table_task3.add_row([\"Random Forest  \",aces_RF, precision_RF, recall_RF, f1_RF])\n",
        "table_task3.add_row([\"KNN  \",aces_kNN, precision_kNN, recall_kNN, f1_kNN])\n",
        "table_task3.add_row([\"NaiveBayes   \",aces_NB, precision_NB, recall_NB, f1_NB])\n",
        "\n",
        "print(table_task3)"
      ],
      "metadata": {
        "colab": {
          "base_uri": "https://localhost:8080/"
        },
        "id": "xGnJ1DYmrJ0S",
        "outputId": "629de4e0-f6b6-4dfe-beaf-0d87d28121de"
      },
      "execution_count": null,
      "outputs": [
        {
          "output_type": "stream",
          "name": "stdout",
          "text": [
            "+-----------------+----------+-----------+--------+--------+\n",
            "|                 | Accuracy | Precision | Recall |   F1   |\n",
            "+-----------------+----------+-----------+--------+--------+\n",
            "|  Decision Tree  |  0.6408  |   0.6639  | 0.6293 | 0.6156 |\n",
            "| Random Forest   |  0.6411  |   0.6414  | 0.6365 | 0.6357 |\n",
            "|      KNN        |  0.6277  |   0.6265  | 0.6246 | 0.6245 |\n",
            "|  NaiveBayes     |  0.6127  |   0.6116  | 0.6114 | 0.6115 |\n",
            "+-----------------+----------+-----------+--------+--------+\n"
          ]
        }
      ]
    },
    {
      "cell_type": "markdown",
      "source": [
        "#Task 4. \n",
        "For a given dataset in the Lab #5 (**credit card dataset**), perform feature selection and thencompare the performance of selected classification algorithms (Decision Tree, kNN, Logistic Regression, SVM, Random Forest and NaiveBayes) based on accuracy, precision, recall, f1 measures.\n"
      ],
      "metadata": {
        "id": "Z5pp7_h-aP2u"
      }
    },
    {
      "cell_type": "code",
      "source": [
        "# code\n",
        "credit = pd.read_csv('creditcard.csv')\n",
        "X = credit.iloc[:,:-1]\n",
        "Y= credit['Class']\n",
        "\n",
        "# using selection feature\n",
        "#Create a Random Forest Classifier\n",
        "clf=RandomForestClassifier(n_estimators=100)\n",
        "\n",
        "#Train the model using the training sets y_pred=clf.predict(X_test)\n",
        "clf.fit(X,Y)\n",
        "\n",
        "feature_imp = pd.Series(clf.feature_importances_,index=X.columns).sort_values(ascending=False)\n",
        "%matplotlib inline\n",
        "# Creating a bar plot\n",
        "sns.barplot(x=feature_imp, y=feature_imp.index)\n",
        "# Add labels to your graph\n",
        "plt.xlabel('Feature Importance Score')\n",
        "plt.ylabel('Features')\n",
        "plt.title(\"Visualizing Important Features\")\n",
        "plt.legend()\n",
        "plt.show()\n",
        "\n",
        "features = feature_imp.index[0:5].values\n",
        "X_new = X[feature_imp.index[0:5]]\n",
        "\n",
        "x_train, x_test, y_train, y_test = train_test_split(X,Y ,test_size=0.3, train_size=0.7,\n",
        "random_state=None, shuffle=True, stratify=None)"
      ],
      "metadata": {
        "id": "Rw_-8FIf2KxW",
        "colab": {
          "base_uri": "https://localhost:8080/",
          "height": 332
        },
        "outputId": "61629fb1-fb4d-4ce3-d2bc-2f3c071975e7"
      },
      "execution_count": 84,
      "outputs": [
        {
          "output_type": "stream",
          "name": "stderr",
          "text": [
            "WARNING:matplotlib.legend:No artists with labels found to put in legend.  Note that artists whose label start with an underscore are ignored when legend() is called with no argument.\n"
          ]
        },
        {
          "output_type": "display_data",
          "data": {
            "text/plain": [
              "<Figure size 432x288 with 1 Axes>"
            ],
            "image/png": "[encoded data removed]"
          },
          "metadata": {
            "needs_background": "light"
          }
        }
      ]
    },
    {
      "cell_type": "code",
      "source": [
        "# Logistic Regression\n",
        "classifier = LogisticRegression(random_state = 0)\n",
        "classifier.fit(x_train, y_train)\n",
        "\n",
        "y_pred_logictis = classifier.predict(x_test)\n",
        "\n",
        "accuracy_logictis = round(metrics.accuracy_score(y_test,y_pred_logictis),4)\n",
        "precision_logictis = round(metrics.precision_score(y_test,y_pred_logictis,average='macro'),4)\n",
        "recall_logictis = round(metrics.recall_score(y_test,y_pred_logictis,average='macro'),4)\n",
        "f1_logictis = round(metrics.f1_score(y_test,y_pred_logictis,average='macro'),4)\n",
        "\n",
        "# kNN\n",
        "kNN = KNeighborsClassifier(n_neighbors= 3)\n",
        "kNN.fit(x_train,y_train)\n",
        "y_pred_kNN = kNN.predict(x_test)\n",
        "\n",
        "accuracy_kNN = round(metrics.accuracy_score(y_test,y_pred_kNN),4)\n",
        "precision_kNN = round(metrics.precision_score(y_test,y_pred_kNN,average='macro'),4)\n",
        "recall_kNN = round(metrics.recall_score(y_test,y_pred_kNN,average='macro'),4)\n",
        "f1_kNN = round(metrics.f1_score(y_test,y_pred_kNN,average='macro'),4)\n",
        "\n",
        "# Decision tree\n",
        "clf_model = DecisionTreeClassifier(criterion=\"gini\", random_state=42,\n",
        "max_depth=3, min_samples_leaf=5)\n",
        "clf_model.fit(x_train,y_train)\n",
        "\n",
        "y_pred_decision = clf_model.predict(x_test)\n",
        "\n",
        "accuracy_decision = round(metrics.accuracy_score(y_test,y_pred_decision),4)\n",
        "precision_decision = round(metrics.precision_score(y_test,y_pred_decision,average='macro'),4)\n",
        "recall_decision = round(metrics.recall_score(y_test,y_pred_decision,average='macro'),4)\n",
        "f1_decision = round(metrics.f1_score(y_test,y_pred_decision,average='macro'),4)\n",
        "# SVM\n",
        "linear = svm.SVC(kernel='linear')\n",
        "linear.fit(x_train,y_train)\n",
        "y_pred_linear = linear.predict(x_test)\n",
        "\n",
        "accuracy_linear = round(metrics.accuracy_score(y_test,y_pred_linear),4)\n",
        "precision_linear = round(metrics.precision_score(y_test,y_pred_linear,average='macro'),4)\n",
        "recall_linear = round(metrics.recall_score(y_test,y_pred_linear,average='macro'),4)\n",
        "f1_linear = round(metrics.f1_score(y_test,y_pred_linear,average='macro'),4)\n",
        "# Random Forest \n",
        "rf = RandomForestClassifier(n_estimators=100)\n",
        "rf.fit(x_train, y_train)\n",
        "y_pred_rf = rf.predict(x_test)\n",
        "\n",
        "aces_RF = round(metrics.accuracy_score(y_test, y_pred_rf),4)\n",
        "precision_RF = round(metrics.precision_score(y_test,y_pred_rf, average='macro'),4)\n",
        "recall_RF = round(metrics.recall_score(y_test, y_pred_rf, average='macro'),4)\n",
        "f1_RF = round(metrics.f1_score(y_test, y_pred_rf, average='macro'),4)\n",
        "\n",
        "table_task = PrettyTable([\"Algorithms\",\"Accuracy\", \"Precision\", \"Recall\", \"F1\"])\n",
        "\n",
        "table_task.add_row([\"Logictis Regression \", accuracy_logictis, precision_logictis, recall_logictis, f1_logictis])\n",
        "table_task.add_row([\"SVM \", accuracy_linear, precision_linear, recall_linear, f1_linear])\n",
        "table_task.add_row([\"Decision Tree \", aces_DT, precision_DT, recall_DT, f1_DT])\n",
        "table_task.add_row([\"Random Forest  \",aces_RF, precision_RF, recall_RF, f1_RF])\n",
        "table_task.add_row([\"KNN  \",aces_kNN, precision_kNN, recall_kNN, f1_kNN])\n",
        "table_task.add_row([\"NaiveBayes   \",aces_NB, precision_NB, recall_NB, f1_NB])\n"
      ],
      "metadata": {
        "colab": {
          "base_uri": "https://localhost:8080/"
        },
        "id": "x1GUP7_5xQZf",
        "outputId": "53c65235-148d-48b0-8325-9e4aafaecb8f"
      },
      "execution_count": 85,
      "outputs": [
        {
          "output_type": "stream",
          "name": "stderr",
          "text": [
            "/usr/local/lib/python3.9/dist-packages/sklearn/linear_model/_logistic.py:458: ConvergenceWarning: lbfgs failed to converge (status=1):\n",
            "STOP: TOTAL NO. of ITERATIONS REACHED LIMIT.\n",
            "\n",
            "Increase the number of iterations (max_iter) or scale the data as shown in:\n",
            "    https://scikit-learn.org/stable/modules/preprocessing.html\n",
            "Please also refer to the documentation for alternative solver options:\n",
            "    https://scikit-learn.org/stable/modules/linear_model.html#logistic-regression\n",
            "  n_iter_i = _check_optimize_result(\n"
          ]
        }
      ]
    },
    {
      "cell_type": "code",
      "source": [
        "print(table_task)"
      ],
      "metadata": {
        "colab": {
          "base_uri": "https://localhost:8080/"
        },
        "id": "vBPpt6fC8f67",
        "outputId": "f533917d-a550-412b-de1b-cf60abfb6eeb"
      },
      "execution_count": 86,
      "outputs": [
        {
          "output_type": "stream",
          "name": "stdout",
          "text": [
            "+----------------------+----------+-----------+--------+--------+\n",
            "|      Algorithms      | Accuracy | Precision | Recall |   F1   |\n",
            "+----------------------+----------+-----------+--------+--------+\n",
            "| Logictis Regression  |  0.9987  |   0.8286  | 0.8202 | 0.8244 |\n",
            "|         SVM          |  0.9984  |   0.8254  | 0.6441 | 0.6996 |\n",
            "|    Decision Tree     |  0.6408  |   0.6639  | 0.6293 | 0.6156 |\n",
            "|   Random Forest      |  0.9995  |   0.9631  | 0.9038 | 0.9314 |\n",
            "|        KNN           |  0.6277  |   0.9277  | 0.5384 | 0.5702 |\n",
            "|    NaiveBayes        |  0.6127  |   0.6116  | 0.6114 | 0.6115 |\n",
            "+----------------------+----------+-----------+--------+--------+\n"
          ]
        }
      ]
    },
    {
      "cell_type": "markdown",
      "source": [
        "#Finally,\n",
        "Save a copy in your Github. Remember renaming the notebook."
      ],
      "metadata": {
        "id": "Ok7RGkea_b7n"
      }
    }
  ]
}