{
  "nbformat": 4,
  "nbformat_minor": 0,
  "metadata": {
    "colab": {
      "provenance": [],
      "authorship_tag": "ABX9TyOcPj7K/pw3a9qAaM/zAQCD",
      "include_colab_link": true
    },
    "kernelspec": {
      "name": "python3",
      "display_name": "Python 3"
    },
    "language_info": {
      "name": "python"
    }
  },
  "cells": [
    {
      "cell_type": "markdown",
      "metadata": {
        "id": "view-in-github",
        "colab_type": "text"
      },
      "source": [
        "<a href=\"https://colab.research.google.com/github/LKVan/Lab2_ML/blob/van/Lab1_20130462_LeKhanhVan.ipynb\" target=\"_parent\"><img src=\"https://colab.research.google.com/assets/colab-badge.svg\" alt=\"Open In Colab\"/></a>"
      ]
    },
    {
      "cell_type": "code",
      "execution_count": null,
      "metadata": {
        "id": "DrvAgU7AuX5m"
      },
      "outputs": [],
      "source": [
        "\n",
        "from IPython.core.display import Math\n",
        "import datetime as date\n",
        "from abc import ABC, abstractmethod\n",
        "import numpy as np"
      ]
    },
    {
      "cell_type": "markdown",
      "source": [
        "Task1.1"
      ],
      "metadata": {
        "id": "1wvH_0chStro"
      }
    },
    {
      "cell_type": "code",
      "source": [
        "n = int(input(\"n = \"))\n",
        "i = 0\n",
        "L = list()\n",
        "for i in range(n):\n",
        "  L.append(int(input(str(i)+ \"=\")))\n",
        "print(L)\n",
        "print(max(L))\n",
        "print(min(L))\n",
        "sum = 0\n",
        "for i in L:\n",
        "  sum = sum + i\n",
        "print(sum)\n",
        "L.sort()\n",
        "print(L)\n",
        "positive = 0\n",
        "nagative = 0\n",
        "for j in L:\n",
        "  if j < 0:\n",
        "    nagative = nagative +1\n",
        "  elif j > 0:\n",
        "    positive = positive + 1\n",
        "print(\"so so duong = \" + str(positive))\n",
        "print(\"so so am = \" + str(nagative))"
      ],
      "metadata": {
        "colab": {
          "base_uri": "https://localhost:8080/"
        },
        "id": "QEgc2-0PSm5Z",
        "outputId": "15a2a8de-82f9-45f5-9d17-69d91b63ab9e"
      },
      "execution_count": null,
      "outputs": [
        {
          "output_type": "stream",
          "name": "stdout",
          "text": [
            "n = 4\n",
            "0=1\n",
            "1=5\n",
            "2=3\n",
            "3=10\n",
            "[1, 5, 3, 10]\n",
            "10\n",
            "1\n",
            "19\n",
            "[1, 3, 5, 10]\n",
            "so so duong = 4\n",
            "so so am = 0\n"
          ]
        }
      ]
    },
    {
      "cell_type": "markdown",
      "source": [
        "Task1.2"
      ],
      "metadata": {
        "id": "XQaFt3IiTN-x"
      }
    },
    {
      "cell_type": "code",
      "source": [
        "def sn(n):\n",
        "  sn = 0\n",
        "  for i in range(n):\n",
        "    sn += 1/(2*i+1)\n",
        "  print(sn)\n",
        "sn(int(input(\"n = \")))"
      ],
      "metadata": {
        "colab": {
          "base_uri": "https://localhost:8080/"
        },
        "id": "h9w73ewaTQ7o",
        "outputId": "26ef8fe1-12a3-47cd-eaee-05dc5b9367a8"
      },
      "execution_count": null,
      "outputs": [
        {
          "output_type": "stream",
          "name": "stdout",
          "text": [
            "n = 5\n",
            "1.7873015873015872\n"
          ]
        }
      ]
    },
    {
      "cell_type": "markdown",
      "source": [
        "Task1.3"
      ],
      "metadata": {
        "id": "kFlHX0f4TTme"
      }
    },
    {
      "cell_type": "code",
      "source": [
        "class Product(ABC):\n",
        "  def __init__(self, name, kind ,price, expiredDate):\n",
        "    self._name = name\n",
        "    self._kind = kind\n",
        "    self._price = price\n",
        "class ImportedProduct(Product):\n",
        "  def __init__(self,name, kind ,price, expiredDate, fromCountry):\n",
        "    super().__init__(name, kind ,price, expiredDate)\n",
        "    self._fromCountry = fromCountry\n",
        "class DomesticProduct(Product):\n",
        "  def __init__(self,name, kind ,price, expiredDate):\n",
        "    super().__init__(name, kind ,price, expiredDate)\n",
        "class OderItem:\n",
        "  def __init__(self, item, amount):\n",
        "    self.item = item\n",
        "    self.amount = amount\n",
        "class Oder:\n",
        "  def __init__(self, id, customer, employee, date, items):\n",
        "    self.id = id\n",
        "    self.customer = customer\n",
        "    self.employee = employee\n",
        "    self.date = date\n",
        "    self.items = items\n",
        "class OderMananger:\n",
        "  def __init__(self,oders):\n",
        "    self.oders = oders\n",
        "  def _highestPrice(self):\n",
        "    max = 0\n",
        "    for oder in self.oders:\n",
        "      for item in oder.items:\n",
        "        if item.item._price > max:\n",
        "          max = item.item._price\n",
        "    return max\n",
        "  def _numProductBoughtByType(self,kind):\n",
        "    count = 0\n",
        "    for oder in self.oders:\n",
        "      for item in oder.items:\n",
        "        if item.item._kind == kind:\n",
        "          count+= item.amount\n",
        "    return count\n",
        "p1 = ImportedProduct('ca phe', 'den', 10000, date.date(2023,5,20),'America')\n",
        "p2 = ImportedProduct('ca phe', 'sua', 20000, date.date(2023,5,19), 'China')\n",
        "p3 = DomesticProduct('tra', 'dao', 25000, date.date(2023,5,20))\n",
        "p4 = DomesticProduct('tra', 'tac', 20000, date.date(2023,5,19))\n",
        "odi1 = OderItem(p1, 2)\n",
        "odi2 = OderItem(p2, 3)\n",
        "odi3 = OderItem(p3, 1)\n",
        "odi4 = OderItem(p4, 4)\n",
        "list1 = [odi1, odi2]\n",
        "list2 = [odi3, odi4]\n",
        "od1 = Oder('kh1','Le Khanh Van', 'Nguyen Van A', date.date(2023, 2, 20), list1)\n",
        "od2 = Oder('kh2','Le Khanh Gun', 'Nguyen Van B', date.date(2023, 2, 19), list2)\n",
        "listoder = [od1, od2]\n",
        "oderManger = OderMananger(listoder)\n",
        "print(oderManger._highestPrice())\n",
        "print(oderManger._numProductBoughtByType('den'))\n",
        "print(p1._fromCountry)"
      ],
      "metadata": {
        "colab": {
          "base_uri": "https://localhost:8080/"
        },
        "id": "0cw0Hx4vTVD5",
        "outputId": "eab815d2-34e4-4e45-cee7-71e49bbbca47"
      },
      "execution_count": null,
      "outputs": [
        {
          "output_type": "stream",
          "name": "stdout",
          "text": [
            "25000\n",
            "2\n",
            "America\n"
          ]
        }
      ]
    },
    {
      "cell_type": "markdown",
      "source": [
        "Task2.1"
      ],
      "metadata": {
        "id": "LCGYUmTQUFBA"
      }
    },
    {
      "cell_type": "code",
      "source": [
        "\n",
        "arr = np.arange(10,26)\n",
        "arr2 = arr[::-1]\n",
        "print(arr2)"
      ],
      "metadata": {
        "colab": {
          "base_uri": "https://localhost:8080/"
        },
        "id": "h-0SA2JkUHXM",
        "outputId": "3928bf93-0746-46c6-ef35-af8f2685a350"
      },
      "execution_count": null,
      "outputs": [
        {
          "output_type": "stream",
          "name": "stdout",
          "text": [
            "[25 24 23 22 21 20 19 18 17 16 15 14 13 12 11 10]\n"
          ]
        }
      ]
    },
    {
      "cell_type": "markdown",
      "source": [
        "Task2.2"
      ],
      "metadata": {
        "id": "2PRsZR8Jer1X"
      }
    },
    {
      "cell_type": "code",
      "source": [
        "def _repeat(array):\n",
        "  n = int(input(\"n = \"))\n",
        "  arr1 = np.copy(array)\n",
        "  for i in range(n-1):\n",
        "    arr2 = np.copy(arr1)\n",
        "    array = np.concatenate((array,arr2),axis = 0)\n",
        "  return array\n",
        "print(_repeat(np.array([1,2,3,4])))"
      ],
      "metadata": {
        "colab": {
          "base_uri": "https://localhost:8080/"
        },
        "id": "ujyUZs_EevoS",
        "outputId": "f0e44471-3b7b-4355-e82d-1ff57c902e13"
      },
      "execution_count": null,
      "outputs": [
        {
          "output_type": "stream",
          "name": "stdout",
          "text": [
            "n = 3\n",
            "[1 2 3 4 1 2 3 4 1 2 3 4]\n"
          ]
        }
      ]
    },
    {
      "cell_type": "markdown",
      "source": [
        "Task2.3"
      ],
      "metadata": {
        "id": "EbbCmVswUdEt"
      }
    },
    {
      "cell_type": "code",
      "source": [
        "def replace(list):\n",
        "  for i in range(len(list)):\n",
        "    for j in range(len(list[i])):\n",
        "      if list[i,j] > 0.5:\n",
        "        list[i,j] = 0.5\n",
        "  print(list)\n",
        "list = np.array([[ 0.42, 0.48, 0.32],\n",
        "[ 0.74, 0.58, 0.38],\n",
        "[ 0.51, 0.34, 0.15 ]])\n",
        "replace(list)"
      ],
      "metadata": {
        "colab": {
          "base_uri": "https://localhost:8080/"
        },
        "id": "dFZpAN8IUe-H",
        "outputId": "6f68e1c0-03a6-4367-cd23-a56c8ac7ee1d"
      },
      "execution_count": null,
      "outputs": [
        {
          "output_type": "stream",
          "name": "stdout",
          "text": [
            "[[0.42 0.48 0.32]\n",
            " [0.5  0.5  0.38]\n",
            " [0.5  0.34 0.15]]\n"
          ]
        }
      ]
    }
  ]
}